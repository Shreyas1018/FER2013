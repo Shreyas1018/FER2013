{
 "cells": [
  {
   "cell_type": "markdown",
   "id": "c1aca957",
   "metadata": {
    "papermill": {
     "duration": 0.008756,
     "end_time": "2023-12-27T09:18:33.680390",
     "exception": false,
     "start_time": "2023-12-27T09:18:33.671634",
     "status": "completed"
    },
    "tags": []
   },
   "source": [
    "# Importing neccessary Libraries"
   ]
  },
  {
   "cell_type": "code",
   "execution_count": 1,
   "id": "c62ced79",
   "metadata": {
    "execution": {
     "iopub.execute_input": "2023-12-27T09:18:33.697896Z",
     "iopub.status.busy": "2023-12-27T09:18:33.697509Z",
     "iopub.status.idle": "2023-12-27T09:18:47.301796Z",
     "shell.execute_reply": "2023-12-27T09:18:47.300829Z"
    },
    "papermill": {
     "duration": 13.615995,
     "end_time": "2023-12-27T09:18:47.304433",
     "exception": false,
     "start_time": "2023-12-27T09:18:33.688438",
     "status": "completed"
    },
    "tags": []
   },
   "outputs": [
    {
     "name": "stderr",
     "output_type": "stream",
     "text": [
      "/opt/conda/lib/python3.10/site-packages/scipy/__init__.py:146: UserWarning: A NumPy version >=1.16.5 and <1.23.0 is required for this version of SciPy (detected version 1.24.3\n",
      "  warnings.warn(f\"A NumPy version >={np_minversion} and <{np_maxversion}\"\n"
     ]
    }
   ],
   "source": [
    "import pandas as pd\n",
    "import numpy as np\n",
    "import os\n",
    "import cv2\n",
    "import tensorflow as tf\n",
    "import matplotlib.pyplot as plt\n",
    "import pickle\n",
    "import seaborn as sns \n",
    "\n",
    "from tensorflow.keras import regularizers\n",
    "from tensorflow.keras.preprocessing.image import ImageDataGenerator\n",
    "from tensorflow.keras.applications import VGG16\n",
    "from tensorflow.keras.layers import Dense, Flatten, Dropout,BatchNormalization ,Activation, GaussianNoise, GlobalAveragePooling2D\n",
    "from tensorflow.keras.models import Model, Sequential\n",
    "from keras.applications.nasnet import NASNetLarge\n",
    "from tensorflow.keras.callbacks import ReduceLROnPlateau, ModelCheckpoint, EarlyStopping\n",
    "from tensorflow.keras.optimizers import Adam\n",
    "from tensorflow.keras.utils import plot_model\n",
    "from IPython.display import Image as Img_show\n",
    "from sklearn.metrics import confusion_matrix"
   ]
  },
  {
   "cell_type": "code",
   "execution_count": 2,
   "id": "1af2f6da",
   "metadata": {
    "execution": {
     "iopub.execute_input": "2023-12-27T09:18:47.330638Z",
     "iopub.status.busy": "2023-12-27T09:18:47.329667Z",
     "iopub.status.idle": "2023-12-27T09:18:47.334458Z",
     "shell.execute_reply": "2023-12-27T09:18:47.333567Z"
    },
    "papermill": {
     "duration": 0.019146,
     "end_time": "2023-12-27T09:18:47.336302",
     "exception": false,
     "start_time": "2023-12-27T09:18:47.317156",
     "status": "completed"
    },
    "tags": []
   },
   "outputs": [],
   "source": [
    "data_path =  '/kaggle/input/fer2013/train'\n",
    "categories = ['angry', 'disgust', 'fear', 'happy', 'Neutral', 'Sad', 'Suprise']"
   ]
  },
  {
   "cell_type": "markdown",
   "id": "19842071",
   "metadata": {
    "papermill": {
     "duration": 0.007797,
     "end_time": "2023-12-27T09:18:47.352198",
     "exception": false,
     "start_time": "2023-12-27T09:18:47.344401",
     "status": "completed"
    },
    "tags": []
   },
   "source": [
    "# Reading Image"
   ]
  },
  {
   "cell_type": "code",
   "execution_count": 3,
   "id": "0d97121f",
   "metadata": {
    "execution": {
     "iopub.execute_input": "2023-12-27T09:18:47.369510Z",
     "iopub.status.busy": "2023-12-27T09:18:47.369222Z",
     "iopub.status.idle": "2023-12-27T09:18:47.867049Z",
     "shell.execute_reply": "2023-12-27T09:18:47.866182Z"
    },
    "papermill": {
     "duration": 0.508686,
     "end_time": "2023-12-27T09:18:47.869018",
     "exception": false,
     "start_time": "2023-12-27T09:18:47.360332",
     "status": "completed"
    },
    "tags": []
   },
   "outputs": [
    {
     "name": "stdout",
     "output_type": "stream",
     "text": [
      "Training_52322132.jpg\n"
     ]
    },
    {
     "data": {
      "image/png": "[encoded data removed]",
      "text/plain": [
       "<Figure size 640x480 with 1 Axes>"
      ]
     },
     "metadata": {},
     "output_type": "display_data"
    }
   ],
   "source": [
    "for emotion in categories:\n",
    "  img_fol = os.path.join(data_path, emotion)\n",
    "  for img_path in os.listdir(img_fol):\n",
    "      img = cv2.imread(os.path.join(img_fol, img_path))\n",
    "      img_resize = cv2.resize(img, (100, 100))\n",
    "      plt.imshow(img_resize)\n",
    "      plt.title(emotion)\n",
    "      print(img_path)\n",
    "      plt.plot()\n",
    "      break\n",
    "  break"
   ]
  },
  {
   "cell_type": "markdown",
   "id": "3560b9a8",
   "metadata": {
    "papermill": {
     "duration": 0.00884,
     "end_time": "2023-12-27T09:18:47.886674",
     "exception": false,
     "start_time": "2023-12-27T09:18:47.877834",
     "status": "completed"
    },
    "tags": []
   },
   "source": [
    "# Creating DataGens"
   ]
  },
  {
   "cell_type": "code",
   "execution_count": 4,
   "id": "a0de985c",
   "metadata": {
    "execution": {
     "iopub.execute_input": "2023-12-27T09:18:47.913362Z",
     "iopub.status.busy": "2023-12-27T09:18:47.912554Z",
     "iopub.status.idle": "2023-12-27T09:18:47.920406Z",
     "shell.execute_reply": "2023-12-27T09:18:47.919444Z"
    },
    "papermill": {
     "duration": 0.025295,
     "end_time": "2023-12-27T09:18:47.923499",
     "exception": false,
     "start_time": "2023-12-27T09:18:47.898204",
     "status": "completed"
    },
    "tags": []
   },
   "outputs": [],
   "source": [
    "Train_Datagen = ImageDataGenerator(\n",
    "    dtype = 'float32',\n",
    "    featurewise_center=False,\n",
    "    featurewise_std_normalization=False,\n",
    "    rotation_range=10,\n",
    "    width_shift_range=0.1,\n",
    "    height_shift_range=0.1,\n",
    "    zoom_range=0.1,\n",
    "    preprocessing_function=tf.keras.applications.resnet.preprocess_input,\n",
    "    )\n",
    "\n",
    "Test_Datagen = ImageDataGenerator(\n",
    "    dtype = 'float32',\n",
    "    preprocessing_function=tf.keras.applications.resnet.preprocess_input,\n",
    "    )"
   ]
  },
  {
   "cell_type": "code",
   "execution_count": 5,
   "id": "1d04c0d2",
   "metadata": {
    "execution": {
     "iopub.execute_input": "2023-12-27T09:18:47.959405Z",
     "iopub.status.busy": "2023-12-27T09:18:47.958665Z",
     "iopub.status.idle": "2023-12-27T09:19:08.683937Z",
     "shell.execute_reply": "2023-12-27T09:19:08.683079Z"
    },
    "papermill": {
     "duration": 20.746468,
     "end_time": "2023-12-27T09:19:08.686173",
     "exception": false,
     "start_time": "2023-12-27T09:18:47.939705",
     "status": "completed"
    },
    "tags": []
   },
   "outputs": [
    {
     "name": "stdout",
     "output_type": "stream",
     "text": [
      "Found 28709 images belonging to 7 classes.\n"
     ]
    }
   ],
   "source": [
    "train_dataset  = Train_Datagen.flow_from_directory(directory = '/kaggle/input/fer2013/train',\n",
    "                                                   target_size = (48, 48),\n",
    "                                                   class_mode = 'categorical',\n",
    "                                                   batch_size = 64)"
   ]
  },
  {
   "cell_type": "code",
   "execution_count": 6,
   "id": "ed8dd930",
   "metadata": {
    "execution": {
     "iopub.execute_input": "2023-12-27T09:19:08.705461Z",
     "iopub.status.busy": "2023-12-27T09:19:08.705162Z",
     "iopub.status.idle": "2023-12-27T09:19:12.953932Z",
     "shell.execute_reply": "2023-12-27T09:19:12.953161Z"
    },
    "papermill": {
     "duration": 4.260855,
     "end_time": "2023-12-27T09:19:12.956171",
     "exception": false,
     "start_time": "2023-12-27T09:19:08.695316",
     "status": "completed"
    },
    "tags": []
   },
   "outputs": [
    {
     "name": "stdout",
     "output_type": "stream",
     "text": [
      "Found 7178 images belonging to 7 classes.\n"
     ]
    }
   ],
   "source": [
    "test_dataset = Test_Datagen.flow_from_directory(directory = '/kaggle/input/fer2013/test',\n",
    "                                                  target_size = (48,48),\n",
    "                                                  class_mode = 'categorical',\n",
    "                                                  batch_size = 64)"
   ]
  },
  {
   "cell_type": "markdown",
   "id": "58fe6f2d",
   "metadata": {
    "papermill": {
     "duration": 0.008664,
     "end_time": "2023-12-27T09:19:12.973978",
     "exception": false,
     "start_time": "2023-12-27T09:19:12.965314",
     "status": "completed"
    },
    "tags": []
   },
   "source": [
    "# Building Model"
   ]
  },
  {
   "cell_type": "code",
   "execution_count": 7,
   "id": "41a682a5",
   "metadata": {
    "execution": {
     "iopub.execute_input": "2023-12-27T09:19:12.993153Z",
     "iopub.status.busy": "2023-12-27T09:19:12.992374Z",
     "iopub.status.idle": "2023-12-27T09:19:24.921837Z",
     "shell.execute_reply": "2023-12-27T09:19:24.920847Z"
    },
    "papermill": {
     "duration": 11.941246,
     "end_time": "2023-12-27T09:19:24.924084",
     "exception": false,
     "start_time": "2023-12-27T09:19:12.982838",
     "status": "completed"
    },
    "tags": []
   },
   "outputs": [
    {
     "name": "stdout",
     "output_type": "stream",
     "text": [
      "Downloading data from https://storage.googleapis.com/tensorflow/keras-applications/resnet/resnet101_weights_tf_dim_ordering_tf_kernels_notop.h5\n",
      "171446536/171446536 [==============================] - 5s 0us/step\n"
     ]
    }
   ],
   "source": [
    "# Resnet\n",
    "base_model = tf.keras.applications.resnet.ResNet101(\n",
    "    input_shape=(48,48,3),\n",
    "    include_top=False,\n",
    "    pooling='max',\n",
    "    weights=\"imagenet\")"
   ]
  },
  {
   "cell_type": "code",
   "execution_count": 8,
   "id": "ca2b1836",
   "metadata": {
    "execution": {
     "iopub.execute_input": "2023-12-27T09:19:24.958609Z",
     "iopub.status.busy": "2023-12-27T09:19:24.958249Z",
     "iopub.status.idle": "2023-12-27T09:19:24.973440Z",
     "shell.execute_reply": "2023-12-27T09:19:24.972628Z"
    },
    "papermill": {
     "duration": 0.034426,
     "end_time": "2023-12-27T09:19:24.975316",
     "exception": false,
     "start_time": "2023-12-27T09:19:24.940890",
     "status": "completed"
    },
    "tags": []
   },
   "outputs": [],
   "source": [
    "for layer in base_model.layers[:-50]:\n",
    "    layer.trainable=False"
   ]
  },
  {
   "cell_type": "code",
   "execution_count": 9,
   "id": "f380e0ac",
   "metadata": {
    "execution": {
     "iopub.execute_input": "2023-12-27T09:19:25.008862Z",
     "iopub.status.busy": "2023-12-27T09:19:25.008581Z",
     "iopub.status.idle": "2023-12-27T09:19:25.012964Z",
     "shell.execute_reply": "2023-12-27T09:19:25.012115Z"
    },
    "papermill": {
     "duration": 0.023601,
     "end_time": "2023-12-27T09:19:25.014936",
     "exception": false,
     "start_time": "2023-12-27T09:19:24.991335",
     "status": "completed"
    },
    "tags": []
   },
   "outputs": [],
   "source": [
    "# model=Sequential()\n",
    "# model.add(base_model)\n",
    "\n",
    "# model.add(Dropout(0.5))\n",
    "# model.add(Flatten())\n",
    "# model.add(Dense(128, kernel_initializer='RandomUniform'))\n",
    "# model.add(BatchNormalization())\n",
    "# model.add(Activation('relu'))\n",
    "\n",
    "# model.add(Dropout(0.5))\n",
    "# model.add(Flatten())\n",
    "# model.add(Dense(64, kernel_initializer='RandomUniform'))\n",
    "# model.add(BatchNormalization())\n",
    "# model.add(Activation('relu'))\n",
    "\n",
    "# model.add(Dropout(0.5))\n",
    "# model.add(Flatten())\n",
    "# model.add(Dense(32, kernel_initializer='RandomUniform'))\n",
    "# model.add(BatchNormalization())\n",
    "# model.add(Activation('relu'))\n",
    "\n",
    "# model.add(Dense(7,activation='softmax'))"
   ]
  },
  {
   "cell_type": "code",
   "execution_count": 10,
   "id": "acdbac85",
   "metadata": {
    "execution": {
     "iopub.execute_input": "2023-12-27T09:19:25.048384Z",
     "iopub.status.busy": "2023-12-27T09:19:25.048119Z",
     "iopub.status.idle": "2023-12-27T09:19:26.129076Z",
     "shell.execute_reply": "2023-12-27T09:19:26.128095Z"
    },
    "papermill": {
     "duration": 1.100542,
     "end_time": "2023-12-27T09:19:26.131477",
     "exception": false,
     "start_time": "2023-12-27T09:19:25.030935",
     "status": "completed"
    },
    "tags": []
   },
   "outputs": [],
   "source": [
    "model=Sequential()\n",
    "\n",
    "model.add(base_model)\n",
    "model.add(BatchNormalization())\n",
    "model.add(GaussianNoise(0.01))\n",
    "\n",
    "model.add(Flatten())\n",
    "model.add(Dense(256, activation='relu',kernel_regularizer=regularizers.l2(0.001),bias_regularizer=regularizers.l2(0.001)))\n",
    "model.add(BatchNormalization())\n",
    "model.add(Dropout(0.5))\n",
    "\n",
    "model.add(Dense(128, activation='relu',kernel_regularizer=regularizers.l2(0.001),bias_regularizer=regularizers.l2(0.001)))\n",
    "model.add(BatchNormalization())\n",
    "model.add(Dropout(0.5))\n",
    "\n",
    "model.add(Dense(7, activation=\"softmax\"))"
   ]
  },
  {
   "cell_type": "code",
   "execution_count": 11,
   "id": "fdbf3fd8",
   "metadata": {
    "execution": {
     "iopub.execute_input": "2023-12-27T09:19:26.165822Z",
     "iopub.status.busy": "2023-12-27T09:19:26.165451Z",
     "iopub.status.idle": "2023-12-27T09:19:26.236904Z",
     "shell.execute_reply": "2023-12-27T09:19:26.235896Z"
    },
    "papermill": {
     "duration": 0.091069,
     "end_time": "2023-12-27T09:19:26.239103",
     "exception": false,
     "start_time": "2023-12-27T09:19:26.148034",
     "status": "completed"
    },
    "tags": []
   },
   "outputs": [
    {
     "name": "stdout",
     "output_type": "stream",
     "text": [
      "Model: \"sequential\"\n",
      "_________________________________________________________________\n",
      " Layer (type)                Output Shape              Param #   \n",
      "=================================================================\n",
      " resnet101 (Functional)      (None, 2048)              42658176  \n",
      "                                                                 \n",
      " batch_normalization (Batch  (None, 2048)              8192      \n",
      " Normalization)                                                  \n",
      "                                                                 \n",
      " gaussian_noise (GaussianNo  (None, 2048)              0         \n",
      " ise)                                                            \n",
      "                                                                 \n",
      " flatten (Flatten)           (None, 2048)              0         \n",
      "                                                                 \n",
      " dense (Dense)               (None, 256)               524544    \n",
      "                                                                 \n",
      " batch_normalization_1 (Bat  (None, 256)               1024      \n",
      " chNormalization)                                                \n",
      "                                                                 \n",
      " dropout (Dropout)           (None, 256)               0         \n",
      "                                                                 \n",
      " dense_1 (Dense)             (None, 128)               32896     \n",
      "                                                                 \n",
      " batch_normalization_2 (Bat  (None, 128)               512       \n",
      " chNormalization)                                                \n",
      "                                                                 \n",
      " dropout_1 (Dropout)         (None, 128)               0         \n",
      "                                                                 \n",
      " dense_2 (Dense)             (None, 7)                 903       \n",
      "                                                                 \n",
      "=================================================================\n",
      "Total params: 43226247 (164.90 MB)\n",
      "Trainable params: 17513735 (66.81 MB)\n",
      "Non-trainable params: 25712512 (98.09 MB)\n",
      "_________________________________________________________________\n"
     ]
    }
   ],
   "source": [
    "model.summary()"
   ]
  },
  {
   "cell_type": "code",
   "execution_count": 12,
   "id": "406b7c66",
   "metadata": {
    "execution": {
     "iopub.execute_input": "2023-12-27T09:19:26.277958Z",
     "iopub.status.busy": "2023-12-27T09:19:26.277659Z",
     "iopub.status.idle": "2023-12-27T09:19:26.281353Z",
     "shell.execute_reply": "2023-12-27T09:19:26.280584Z"
    },
    "papermill": {
     "duration": 0.025068,
     "end_time": "2023-12-27T09:19:26.283176",
     "exception": false,
     "start_time": "2023-12-27T09:19:26.258108",
     "status": "completed"
    },
    "tags": []
   },
   "outputs": [],
   "source": [
    "# plot_model(model, to_file='convnet.png', show_shapes=True,show_layer_names=True)\n",
    "# Img_show(filename='convnet.png')"
   ]
  },
  {
   "cell_type": "code",
   "execution_count": 13,
   "id": "349e1311",
   "metadata": {
    "execution": {
     "iopub.execute_input": "2023-12-27T09:19:26.323339Z",
     "iopub.status.busy": "2023-12-27T09:19:26.322778Z",
     "iopub.status.idle": "2023-12-27T09:19:26.330705Z",
     "shell.execute_reply": "2023-12-27T09:19:26.330017Z"
    },
    "papermill": {
     "duration": 0.029344,
     "end_time": "2023-12-27T09:19:26.332507",
     "exception": false,
     "start_time": "2023-12-27T09:19:26.303163",
     "status": "completed"
    },
    "tags": []
   },
   "outputs": [],
   "source": [
    "Adam = tf.keras.optimizers.Adam(\n",
    "    learning_rate=0.0001, \n",
    "    beta_1=0.9, \n",
    "    beta_2=0.999, \n",
    "    epsilon=1e-08)"
   ]
  },
  {
   "cell_type": "code",
   "execution_count": 14,
   "id": "b2650972",
   "metadata": {
    "execution": {
     "iopub.execute_input": "2023-12-27T09:19:26.415068Z",
     "iopub.status.busy": "2023-12-27T09:19:26.414718Z",
     "iopub.status.idle": "2023-12-27T09:19:26.419277Z",
     "shell.execute_reply": "2023-12-27T09:19:26.418445Z"
    },
    "papermill": {
     "duration": 0.069982,
     "end_time": "2023-12-27T09:19:26.421134",
     "exception": false,
     "start_time": "2023-12-27T09:19:26.351152",
     "status": "completed"
    },
    "tags": []
   },
   "outputs": [],
   "source": [
    "early_stopping = EarlyStopping(monitor = 'val_loss', verbose=1, patience=5, restore_best_weights=True)"
   ]
  },
  {
   "cell_type": "code",
   "execution_count": 15,
   "id": "f884eda2",
   "metadata": {
    "execution": {
     "iopub.execute_input": "2023-12-27T09:19:26.460236Z",
     "iopub.status.busy": "2023-12-27T09:19:26.459482Z",
     "iopub.status.idle": "2023-12-27T09:19:26.481225Z",
     "shell.execute_reply": "2023-12-27T09:19:26.480535Z"
    },
    "papermill": {
     "duration": 0.043162,
     "end_time": "2023-12-27T09:19:26.483157",
     "exception": false,
     "start_time": "2023-12-27T09:19:26.439995",
     "status": "completed"
    },
    "tags": []
   },
   "outputs": [],
   "source": [
    "model.compile(optimizer='Adam', loss='categorical_crossentropy',metrics=['accuracy'])"
   ]
  },
  {
   "cell_type": "markdown",
   "id": "e54ef149",
   "metadata": {
    "papermill": {
     "duration": 0.018456,
     "end_time": "2023-12-27T09:19:26.520493",
     "exception": false,
     "start_time": "2023-12-27T09:19:26.502037",
     "status": "completed"
    },
    "tags": []
   },
   "source": [
    "# Training Model"
   ]
  },
  {
   "cell_type": "code",
   "execution_count": 16,
   "id": "63f6e114",
   "metadata": {
    "execution": {
     "iopub.execute_input": "2023-12-27T09:19:26.559913Z",
     "iopub.status.busy": "2023-12-27T09:19:26.559306Z",
     "iopub.status.idle": "2023-12-27T09:41:30.200350Z",
     "shell.execute_reply": "2023-12-27T09:41:30.199552Z"
    },
    "papermill": {
     "duration": 1323.662927,
     "end_time": "2023-12-27T09:41:30.202336",
     "exception": false,
     "start_time": "2023-12-27T09:19:26.539409",
     "status": "completed"
    },
    "tags": []
   },
   "outputs": [
    {
     "name": "stdout",
     "output_type": "stream",
     "text": [
      "Epoch 1/60\n",
      "449/449 [==============================] - 247s 496ms/step - loss: 2.4680 - accuracy: 0.3421 - val_loss: 2.1636 - val_accuracy: 0.4234\n",
      "Epoch 2/60\n",
      "449/449 [==============================] - 58s 129ms/step - loss: 1.9424 - accuracy: 0.4329 - val_loss: 1.8280 - val_accuracy: 0.4706\n",
      "Epoch 3/60\n",
      "449/449 [==============================] - 60s 133ms/step - loss: 1.6970 - accuracy: 0.4653 - val_loss: 1.6005 - val_accuracy: 0.4622\n",
      "Epoch 4/60\n",
      "449/449 [==============================] - 57s 128ms/step - loss: 1.5527 - accuracy: 0.4864 - val_loss: 1.4958 - val_accuracy: 0.4866\n",
      "Epoch 5/60\n",
      "449/449 [==============================] - 60s 134ms/step - loss: 1.4598 - accuracy: 0.5099 - val_loss: 1.4049 - val_accuracy: 0.5033\n",
      "Epoch 6/60\n",
      "449/449 [==============================] - 62s 137ms/step - loss: 1.4054 - accuracy: 0.5222 - val_loss: 1.3448 - val_accuracy: 0.5343\n",
      "Epoch 7/60\n",
      "449/449 [==============================] - 58s 130ms/step - loss: 1.3595 - accuracy: 0.5366 - val_loss: 1.3411 - val_accuracy: 0.5336\n",
      "Epoch 8/60\n",
      "449/449 [==============================] - 61s 136ms/step - loss: 1.3284 - accuracy: 0.5491 - val_loss: 1.3473 - val_accuracy: 0.5293\n",
      "Epoch 9/60\n",
      "449/449 [==============================] - 57s 127ms/step - loss: 1.3085 - accuracy: 0.5584 - val_loss: 1.3233 - val_accuracy: 0.5483\n",
      "Epoch 10/60\n",
      "449/449 [==============================] - 58s 130ms/step - loss: 1.2790 - accuracy: 0.5704 - val_loss: 1.3044 - val_accuracy: 0.5545\n",
      "Epoch 11/60\n",
      "449/449 [==============================] - 59s 132ms/step - loss: 1.2502 - accuracy: 0.5864 - val_loss: 1.3419 - val_accuracy: 0.5348\n",
      "Epoch 12/60\n",
      "449/449 [==============================] - 59s 131ms/step - loss: 1.2212 - accuracy: 0.5981 - val_loss: 1.3007 - val_accuracy: 0.5580\n",
      "Epoch 13/60\n",
      "449/449 [==============================] - 59s 130ms/step - loss: 1.1977 - accuracy: 0.6049 - val_loss: 1.3392 - val_accuracy: 0.5515\n",
      "Epoch 14/60\n",
      "449/449 [==============================] - 61s 136ms/step - loss: 1.1691 - accuracy: 0.6218 - val_loss: 1.2839 - val_accuracy: 0.5698\n",
      "Epoch 15/60\n",
      "449/449 [==============================] - 68s 151ms/step - loss: 1.1419 - accuracy: 0.6331 - val_loss: 1.3403 - val_accuracy: 0.5502\n",
      "Epoch 16/60\n",
      "449/449 [==============================] - 62s 138ms/step - loss: 1.1104 - accuracy: 0.6474 - val_loss: 1.3537 - val_accuracy: 0.5430\n",
      "Epoch 17/60\n",
      "449/449 [==============================] - 58s 130ms/step - loss: 1.0900 - accuracy: 0.6583 - val_loss: 1.2867 - val_accuracy: 0.5798\n",
      "Epoch 18/60\n",
      "449/449 [==============================] - 59s 131ms/step - loss: 1.0527 - accuracy: 0.6697 - val_loss: 1.3323 - val_accuracy: 0.5783\n",
      "Epoch 19/60\n",
      "449/449 [==============================] - ETA: 0s - loss: 1.0292 - accuracy: 0.6796Restoring model weights from the end of the best epoch: 14.\n",
      "449/449 [==============================] - 59s 132ms/step - loss: 1.0292 - accuracy: 0.6796 - val_loss: 1.3787 - val_accuracy: 0.5726\n",
      "Epoch 19: early stopping\n"
     ]
    }
   ],
   "source": [
    "history=model.fit(train_dataset,\n",
    "                  validation_data=test_dataset,\n",
    "                  epochs = 60,\n",
    "                  verbose = 1,\n",
    "                  callbacks=[early_stopping])"
   ]
  },
  {
   "cell_type": "markdown",
   "id": "17441aac",
   "metadata": {
    "papermill": {
     "duration": 0.701045,
     "end_time": "2023-12-27T09:41:31.663852",
     "exception": false,
     "start_time": "2023-12-27T09:41:30.962807",
     "status": "completed"
    },
    "tags": []
   },
   "source": [
    "# Visualizing"
   ]
  },
  {
   "cell_type": "code",
   "execution_count": 17,
   "id": "bb455bc6",
   "metadata": {
    "execution": {
     "iopub.execute_input": "2023-12-27T09:41:33.115220Z",
     "iopub.status.busy": "2023-12-27T09:41:33.114843Z",
     "iopub.status.idle": "2023-12-27T09:41:33.425855Z",
     "shell.execute_reply": "2023-12-27T09:41:33.424911Z"
    },
    "papermill": {
     "duration": 1.07014,
     "end_time": "2023-12-27T09:41:33.427809",
     "exception": false,
     "start_time": "2023-12-27T09:41:32.357669",
     "status": "completed"
    },
    "tags": []
   },
   "outputs": [
    {
     "data": {
      "image/png": "[encoded data removed]",
      "text/plain": [
       "<Figure size 640x480 with 1 Axes>"
      ]
     },
     "metadata": {},
     "output_type": "display_data"
    }
   ],
   "source": [
    "train_loss = history.history['loss']\n",
    "val_loss = history.history['val_loss']\n",
    "epochs = range(1, len(train_loss) + 1)\n",
    "plt.plot(epochs, train_loss, 'bo', label='Training loss')\n",
    "plt.plot(epochs, val_loss, 'b', label='Validation loss')\n",
    "plt.title('Training and validation loss')\n",
    "plt.xlabel('Epochs')\n",
    "plt.ylabel('Loss')\n",
    "plt.legend()\n",
    "plt.show()"
   ]
  },
  {
   "cell_type": "code",
   "execution_count": 18,
   "id": "7feb64a4",
   "metadata": {
    "execution": {
     "iopub.execute_input": "2023-12-27T09:41:34.817340Z",
     "iopub.status.busy": "2023-12-27T09:41:34.816969Z",
     "iopub.status.idle": "2023-12-27T09:41:35.121171Z",
     "shell.execute_reply": "2023-12-27T09:41:35.120241Z"
    },
    "papermill": {
     "duration": 1.006066,
     "end_time": "2023-12-27T09:41:35.123177",
     "exception": false,
     "start_time": "2023-12-27T09:41:34.117111",
     "status": "completed"
    },
    "tags": []
   },
   "outputs": [
    {
     "data": {
      "image/png": "[encoded data removed]",
      "text/plain": [
       "<Figure size 640x480 with 1 Axes>"
      ]
     },
     "metadata": {},
     "output_type": "display_data"
    }
   ],
   "source": [
    "train_acc = history.history['accuracy']\n",
    "val_acc = history.history['val_accuracy']\n",
    "plt.plot(epochs, train_acc, 'bo', label='Training accuracy')\n",
    "plt.plot(epochs, val_acc, 'b', label='Validation accuracy')\n",
    "plt.title('Training and validation accuracy')\n",
    "plt.xlabel('Epochs')\n",
    "plt.ylabel('Accuracy')\n",
    "plt.legend()\n",
    "plt.show()"
   ]
  },
  {
   "cell_type": "code",
   "execution_count": 19,
   "id": "57c3febc",
   "metadata": {
    "execution": {
     "iopub.execute_input": "2023-12-27T09:41:36.581106Z",
     "iopub.status.busy": "2023-12-27T09:41:36.580160Z",
     "iopub.status.idle": "2023-12-27T09:41:46.323834Z",
     "shell.execute_reply": "2023-12-27T09:41:46.322867Z"
    },
    "papermill": {
     "duration": 10.448279,
     "end_time": "2023-12-27T09:41:46.325960",
     "exception": false,
     "start_time": "2023-12-27T09:41:35.877681",
     "status": "completed"
    },
    "tags": []
   },
   "outputs": [
    {
     "name": "stdout",
     "output_type": "stream",
     "text": [
      "113/113 [==============================] - 9s 62ms/step\n"
     ]
    },
    {
     "data": {
      "image/png": "[encoded data removed]",
      "text/plain": [
       "<Figure size 800x800 with 2 Axes>"
      ]
     },
     "metadata": {},
     "output_type": "display_data"
    }
   ],
   "source": [
    "validation_labels = test_dataset.classes\n",
    "validation_pred_probs = model.predict(test_dataset)\n",
    "validation_pred_labels = np.argmax(validation_pred_probs, axis=1)\n",
    "\n",
    "confusion_mtx = confusion_matrix(validation_labels, validation_pred_labels)\n",
    "class_names = list(train_dataset.class_indices.keys())\n",
    "sns.set()\n",
    "plt.figure(figsize=(8, 8))\n",
    "sns.heatmap(confusion_mtx, annot=True, fmt='d', cmap='YlGnBu', \n",
    "            xticklabels=class_names, yticklabels=class_names)\n",
    "plt.xlabel('Predicted Label')\n",
    "plt.ylabel('True Label')\n",
    "plt.title('Confusion Matrix')\n",
    "plt.show()"
   ]
  },
  {
   "cell_type": "markdown",
   "id": "df3af4ce",
   "metadata": {
    "papermill": {
     "duration": 0.766213,
     "end_time": "2023-12-27T09:41:47.798558",
     "exception": false,
     "start_time": "2023-12-27T09:41:47.032345",
     "status": "completed"
    },
    "tags": []
   },
   "source": [
    "# Predicting Image"
   ]
  },
  {
   "cell_type": "code",
   "execution_count": 20,
   "id": "d27d5d3e",
   "metadata": {
    "execution": {
     "iopub.execute_input": "2023-12-27T09:41:49.259322Z",
     "iopub.status.busy": "2023-12-27T09:41:49.258943Z",
     "iopub.status.idle": "2023-12-27T09:41:49.264412Z",
     "shell.execute_reply": "2023-12-27T09:41:49.263692Z"
    },
    "papermill": {
     "duration": 0.718976,
     "end_time": "2023-12-27T09:41:49.266297",
     "exception": false,
     "start_time": "2023-12-27T09:41:48.547321",
     "status": "completed"
    },
    "tags": []
   },
   "outputs": [],
   "source": [
    "img = cv2.imread('/kaggle/input/fer2013/test/happy/PrivateTest_10077120.jpg')\n",
    "img_resize = cv2.resize(img, (48, 48))\n",
    "img_processed = np.array(img_resize).reshape(-1, 48, 48,3)"
   ]
  },
  {
   "cell_type": "code",
   "execution_count": 21,
   "id": "5b1134bd",
   "metadata": {
    "execution": {
     "iopub.execute_input": "2023-12-27T09:41:50.754234Z",
     "iopub.status.busy": "2023-12-27T09:41:50.753835Z",
     "iopub.status.idle": "2023-12-27T09:41:53.063802Z",
     "shell.execute_reply": "2023-12-27T09:41:53.062885Z"
    },
    "papermill": {
     "duration": 3.029599,
     "end_time": "2023-12-27T09:41:53.065755",
     "exception": false,
     "start_time": "2023-12-27T09:41:50.036156",
     "status": "completed"
    },
    "tags": []
   },
   "outputs": [
    {
     "name": "stdout",
     "output_type": "stream",
     "text": [
      "1/1 [==============================] - 2s 2s/step\n"
     ]
    },
    {
     "data": {
      "text/plain": [
       "'happy'"
      ]
     },
     "execution_count": 21,
     "metadata": {},
     "output_type": "execute_result"
    }
   ],
   "source": [
    "pred = model.predict(img_processed)\n",
    "pred_class = categories[np.argmax(pred)]\n",
    "pred_class"
   ]
  },
  {
   "cell_type": "code",
   "execution_count": 22,
   "id": "20d8e54d",
   "metadata": {
    "execution": {
     "iopub.execute_input": "2023-12-27T09:41:54.526180Z",
     "iopub.status.busy": "2023-12-27T09:41:54.525794Z",
     "iopub.status.idle": "2023-12-27T09:41:54.532541Z",
     "shell.execute_reply": "2023-12-27T09:41:54.531553Z"
    },
    "papermill": {
     "duration": 0.76813,
     "end_time": "2023-12-27T09:41:54.534413",
     "exception": false,
     "start_time": "2023-12-27T09:41:53.766283",
     "status": "completed"
    },
    "tags": []
   },
   "outputs": [
    {
     "data": {
      "text/plain": [
       "array([[2.4539374e-02, 4.1152697e-04, 8.0404282e-03, 7.8254735e-01,\n",
       "        1.2555252e-01, 5.6903314e-02, 2.0055030e-03]], dtype=float32)"
      ]
     },
     "execution_count": 22,
     "metadata": {},
     "output_type": "execute_result"
    }
   ],
   "source": [
    "pred"
   ]
  },
  {
   "cell_type": "markdown",
   "id": "3631f62f",
   "metadata": {
    "papermill": {
     "duration": 0.709349,
     "end_time": "2023-12-27T09:41:55.994949",
     "exception": false,
     "start_time": "2023-12-27T09:41:55.285600",
     "status": "completed"
    },
    "tags": []
   },
   "source": [
    "# Saving model"
   ]
  },
  {
   "cell_type": "code",
   "execution_count": 23,
   "id": "02bb996f",
   "metadata": {
    "execution": {
     "iopub.execute_input": "2023-12-27T09:41:57.471997Z",
     "iopub.status.busy": "2023-12-27T09:41:57.471635Z",
     "iopub.status.idle": "2023-12-27T09:42:37.024506Z",
     "shell.execute_reply": "2023-12-27T09:42:37.023669Z"
    },
    "papermill": {
     "duration": 40.278451,
     "end_time": "2023-12-27T09:42:37.026883",
     "exception": false,
     "start_time": "2023-12-27T09:41:56.748432",
     "status": "completed"
    },
    "tags": []
   },
   "outputs": [],
   "source": [
    "model.save('/kaggle/working/model')"
   ]
  },
  {
   "cell_type": "code",
   "execution_count": 24,
   "id": "03654650",
   "metadata": {
    "execution": {
     "iopub.execute_input": "2023-12-27T09:42:38.534041Z",
     "iopub.status.busy": "2023-12-27T09:42:38.533675Z",
     "iopub.status.idle": "2023-12-27T09:42:55.363492Z",
     "shell.execute_reply": "2023-12-27T09:42:55.362337Z"
    },
    "papermill": {
     "duration": 17.633659,
     "end_time": "2023-12-27T09:42:55.365967",
     "exception": false,
     "start_time": "2023-12-27T09:42:37.732308",
     "status": "completed"
    },
    "tags": []
   },
   "outputs": [
    {
     "name": "stdout",
     "output_type": "stream",
     "text": [
      "  adding: kaggle/working/model/ (stored 0%)\r\n",
      "  adding: kaggle/working/model/assets/ (stored 0%)\r\n",
      "  adding: kaggle/working/model/fingerprint.pb (stored 0%)\r\n",
      "  adding: kaggle/working/model/keras_metadata.pb (deflated 96%)\r\n",
      "  adding: kaggle/working/model/variables/ (stored 0%)\r\n",
      "  adding: kaggle/working/model/variables/variables.data-00000-of-00001 (deflated 9%)\r\n",
      "  adding: kaggle/working/model/variables/variables.index (deflated 80%)\r\n",
      "  adding: kaggle/working/model/saved_model.pb (deflated 92%)\r\n"
     ]
    }
   ],
   "source": [
    "!zip -r file.zip /kaggle/working/model"
   ]
  },
  {
   "cell_type": "code",
   "execution_count": null,
   "id": "329df9e7",
   "metadata": {
    "papermill": {
     "duration": 0.701811,
     "end_time": "2023-12-27T09:42:56.767688",
     "exception": false,
     "start_time": "2023-12-27T09:42:56.065877",
     "status": "completed"
    },
    "tags": []
   },
   "outputs": [],
   "source": []
  }
 ],
 "metadata": {
  "kaggle": {
   "accelerator": "gpu",
   "dataSources": [
    {
     "datasetId": 786787,
     "sourceId": 1351797,
     "sourceType": "datasetVersion"
    }
   ],
   "dockerImageVersionId": 30588,
   "isGpuEnabled": true,
   "isInternetEnabled": true,
   "language": "python",
   "sourceType": "notebook"
  },
  "kernelspec": {
   "display_name": "Python 3",
   "language": "python",
   "name": "python3"
  },
  "language_info": {
   "codemirror_mode": {
    "name": "ipython",
    "version": 3
   },
   "file_extension": ".py",
   "mimetype": "text/x-python",
   "name": "python",
   "nbconvert_exporter": "python",
   "pygments_lexer": "ipython3",
   "version": "3.10.12"
  },
  "papermill": {
   "default_parameters": {},
   "duration": 1470.580142,
   "end_time": "2023-12-27T09:43:00.918471",
   "environment_variables": {},
   "exception": null,
   "input_path": "__notebook__.ipynb",
   "output_path": "__notebook__.ipynb",
   "parameters": {},
   "start_time": "2023-12-27T09:18:30.338329",
   "version": "2.4.0"
  }
 },
 "nbformat": 4,
 "nbformat_minor": 5
}
